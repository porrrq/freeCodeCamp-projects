{
 "cells": [
  {
   "cell_type": "markdown",
   "metadata": {},
   "source": [
    "# Sea Level Predictor"
   ]
  },
  {
   "cell_type": "markdown",
   "metadata": {},
   "source": [
    "## Overview\n",
    "This problem is a practice in using `Matplotlib` and `lingress` in `scipy` to predict sea level from the given data. The prediction is divided into 2 sets of data: from 1880 to the latest year and from 2000 to the latest year. Finally, the prediction results of both models are plotted together with the actual data in a single graph as shown below.\n",
    "\n",
    "![sea_level_predictor](sea_level_plot.png)"
   ]
  },
  {
   "cell_type": "markdown",
   "metadata": {},
   "source": [
    "# Process"
   ]
  },
  {
   "cell_type": "markdown",
   "metadata": {},
   "source": [
    "Import libraries"
   ]
  },
  {
   "cell_type": "code",
   "execution_count": 54,
   "metadata": {},
   "outputs": [
    {
     "name": "stdout",
     "output_type": "stream",
     "text": [
      "Success!\n"
     ]
    }
   ],
   "source": [
    "import pandas as pd\n",
    "import matplotlib.pyplot as plt\n",
    "from scipy.stats import linregress\n",
    "print(\"Success!\")"
   ]
  },
  {
   "cell_type": "markdown",
   "metadata": {},
   "source": [
    "Use Pandas to import the data from `epa-sea-level.csv`."
   ]
  },
  {
   "cell_type": "code",
   "execution_count": 55,
   "metadata": {},
   "outputs": [
    {
     "data": {
      "text/html": [
       "<div>\n",
       "<style scoped>\n",
       "    .dataframe tbody tr th:only-of-type {\n",
       "        vertical-align: middle;\n",
       "    }\n",
       "\n",
       "    .dataframe tbody tr th {\n",
       "        vertical-align: top;\n",
       "    }\n",
       "\n",
       "    .dataframe thead th {\n",
       "        text-align: right;\n",
       "    }\n",
       "</style>\n",
       "<table border=\"1\" class=\"dataframe\">\n",
       "  <thead>\n",
       "    <tr style=\"text-align: right;\">\n",
       "      <th></th>\n",
       "      <th>Year</th>\n",
       "      <th>CSIRO Adjusted Sea Level</th>\n",
       "      <th>Lower Error Bound</th>\n",
       "      <th>Upper Error Bound</th>\n",
       "      <th>NOAA Adjusted Sea Level</th>\n",
       "    </tr>\n",
       "  </thead>\n",
       "  <tbody>\n",
       "    <tr>\n",
       "      <th>0</th>\n",
       "      <td>1880</td>\n",
       "      <td>0.000000</td>\n",
       "      <td>-0.952756</td>\n",
       "      <td>0.952756</td>\n",
       "      <td>NaN</td>\n",
       "    </tr>\n",
       "    <tr>\n",
       "      <th>1</th>\n",
       "      <td>1881</td>\n",
       "      <td>0.220472</td>\n",
       "      <td>-0.732283</td>\n",
       "      <td>1.173228</td>\n",
       "      <td>NaN</td>\n",
       "    </tr>\n",
       "    <tr>\n",
       "      <th>2</th>\n",
       "      <td>1882</td>\n",
       "      <td>-0.440945</td>\n",
       "      <td>-1.346457</td>\n",
       "      <td>0.464567</td>\n",
       "      <td>NaN</td>\n",
       "    </tr>\n",
       "    <tr>\n",
       "      <th>3</th>\n",
       "      <td>1883</td>\n",
       "      <td>-0.232283</td>\n",
       "      <td>-1.129921</td>\n",
       "      <td>0.665354</td>\n",
       "      <td>NaN</td>\n",
       "    </tr>\n",
       "    <tr>\n",
       "      <th>4</th>\n",
       "      <td>1884</td>\n",
       "      <td>0.590551</td>\n",
       "      <td>-0.283465</td>\n",
       "      <td>1.464567</td>\n",
       "      <td>NaN</td>\n",
       "    </tr>\n",
       "  </tbody>\n",
       "</table>\n",
       "</div>"
      ],
      "text/plain": [
       "   Year  CSIRO Adjusted Sea Level  Lower Error Bound  Upper Error Bound  \\\n",
       "0  1880                  0.000000          -0.952756           0.952756   \n",
       "1  1881                  0.220472          -0.732283           1.173228   \n",
       "2  1882                 -0.440945          -1.346457           0.464567   \n",
       "3  1883                 -0.232283          -1.129921           0.665354   \n",
       "4  1884                  0.590551          -0.283465           1.464567   \n",
       "\n",
       "   NOAA Adjusted Sea Level  \n",
       "0                      NaN  \n",
       "1                      NaN  \n",
       "2                      NaN  \n",
       "3                      NaN  \n",
       "4                      NaN  "
      ]
     },
     "execution_count": 55,
     "metadata": {},
     "output_type": "execute_result"
    }
   ],
   "source": [
    "df = pd.read_csv(\"epa-sea-level.csv\")\n",
    "df.head()"
   ]
  },
  {
   "cell_type": "code",
   "execution_count": 56,
   "metadata": {},
   "outputs": [
    {
     "data": {
      "image/png": "[encoded data removed]",
      "text/plain": [
       "<Figure size 640x480 with 1 Axes>"
      ]
     },
     "metadata": {},
     "output_type": "display_data"
    }
   ],
   "source": [
    "# Use `matplotlib` to create a scatter plot using the `Year`` column as the x-axis and the `CSIRO Adjusted Sea Level` column as the y-axis.\n",
    "plt.scatter(\n",
    "        data=df,\n",
    "        x='Year',\n",
    "        y='CSIRO Adjusted Sea Level',\n",
    "        color='blue'\n",
    ")\n",
    "# ==========================================================================\n",
    "\n",
    "# Use the `linregress` function from `scipy.stats` to get the slope and y-intercept of the line of best fit. Plot the line of best fit over the top of the scatter plot. Make the line go through the year 2050 to predict the sea level rise in 2050.\n",
    "\n",
    "# Run linear regression between Year and CSIRO Adjusted Sea Level and assign it to `reg`\n",
    "reg = linregress(\n",
    "        x = df['Year'],\n",
    "        y = df['CSIRO Adjusted Sea Level']\n",
    ")\n",
    "\n",
    "# Calculate the prediction using slope and intercept from `reg`\n",
    "predicted = pd.Series([y*reg.slope+reg.intercept for y in range(1880,2051,1)])\n",
    "\n",
    "# Plot the result\n",
    "plt.plot(\n",
    "        pd.Series([y for y in range(1880,2051,1)]),\n",
    "        predicted,\n",
    "        color=\"red\"\n",
    ")\n",
    "# ==========================================================================\n",
    "\n",
    "# Plot a new line of best fit just using the data from year 2000 through the most recent year in the dataset. Make the line also go through the year 2050 to predict the sea level rise in 2050 if the rate of rise continues as it has since the year 2000.\n",
    "\n",
    "#filter the data \n",
    "df2 = df[df['Year']>=2000] \n",
    "\n",
    "# Run linear regression between Year and CSIRO Adjusted Sea Level from year 2000 and assign it to `reg2`\n",
    "reg2 = linregress(\n",
    "        x = df2['Year'],\n",
    "        y = df2['CSIRO Adjusted Sea Level']\n",
    "    )\n",
    "# Calculate the prediction using slope and intercept from `reg2`\n",
    "predicted2 = [y*reg2.slope+reg2.intercept for y in range(2000,2051,1)]\n",
    "\n",
    "# Plot the result\n",
    "plt.plot(\n",
    "        pd.Series([y for y in range(2000,2051,1)]),\n",
    "        predicted2,\n",
    "        color=\"lime\"\n",
    ")\n",
    "# ==========================================================================\n",
    "\n",
    "# Add labels and title\n",
    "plt.title(\"Rise in Sea Level\")\n",
    "plt.ylabel(\"Sea Level (inches)\")\n",
    "plt.xlabel(\"Year\")\n",
    "\n",
    "# Save plot\n",
    "plt.savefig('sea_level_plot.png')"
   ]
  },
  {
   "cell_type": "code",
   "execution_count": null,
   "metadata": {},
   "outputs": [],
   "source": []
  }
 ],
 "metadata": {
  "kernelspec": {
   "display_name": "Python 3",
   "language": "python",
   "name": "python3"
  },
  "language_info": {
   "codemirror_mode": {
    "name": "ipython",
    "version": 3
   },
   "file_extension": ".py",
   "mimetype": "text/x-python",
   "name": "python",
   "nbconvert_exporter": "python",
   "pygments_lexer": "ipython3",
   "version": "3.13.1"
  }
 },
 "nbformat": 4,
 "nbformat_minor": 2
}
