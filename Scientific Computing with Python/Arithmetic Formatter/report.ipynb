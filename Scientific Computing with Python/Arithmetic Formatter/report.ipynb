{
 "cells": [
  {
   "cell_type": "markdown",
   "metadata": {},
   "source": [
    "# Build an Arithmetic Formatter Project"
   ]
  },
  {
   "cell_type": "markdown",
   "metadata": {},
   "source": [
    "This project formats arithmetic problems in a `clean`, `vertical layout`, similar to how students solve them on paper.  It also provides meaningful error messages for invalid inputs.\n",
    "\n",
    "**Features**\n",
    "- Accepts up to five arithmetic problems.\n",
    "- Supports only addition (+) and subtraction (-).\n",
    "- Ensures operands are numeric and at most four digits.\n",
    "- Displays problems side-by-side, right-aligned, with proper spacing.\n",
    "- Optionally shows solutions when enabled."
   ]
  },
  {
   "cell_type": "code",
   "execution_count": 33,
   "metadata": {},
   "outputs": [],
   "source": [
    "import Arithmetic_Formatter as af\n",
    "import pprint"
   ]
  },
  {
   "cell_type": "markdown",
   "metadata": {},
   "source": [
    "Example:"
   ]
  },
  {
   "cell_type": "code",
   "execution_count": 34,
   "metadata": {},
   "outputs": [
    {
     "name": "stdout",
     "output_type": "stream",
     "text": [
      "  32         1      9999      523\n",
      "+  8    - 3801    + 9999    -  49\n",
      "----    ------    ------    -----\n",
      "  40     -3800     19998      474\n"
     ]
    }
   ],
   "source": [
    "print(\n",
    "    af.arithmetic_arranger(\n",
    "        [\"32 + 8\", \"1 - 3801\", \"9999 + 9999\", \"523 - 49\"], show_answers=True\n",
    "    )\n",
    ")"
   ]
  },
  {
   "cell_type": "markdown",
   "metadata": {},
   "source": [
    "**Error Handling Showcase**:\n",
    "\n",
    "The function returns meaningful error messages in the following cases:"
   ]
  },
  {
   "cell_type": "markdown",
   "metadata": {},
   "source": [
    "❌ Too Many Problems (Limit: 5)"
   ]
  },
  {
   "cell_type": "code",
   "execution_count": 35,
   "metadata": {},
   "outputs": [
    {
     "name": "stdout",
     "output_type": "stream",
     "text": [
      "Error: Too many problems.\n"
     ]
    }
   ],
   "source": [
    "print(\n",
    "    af.arithmetic_arranger(\n",
    "        [\"1 + 2\", \"3 - 4\", \"5 + 6\", \"7 - 8\", \"9 + 10\", \"11 - 12\"]\n",
    "    )\n",
    ")"
   ]
  },
  {
   "cell_type": "markdown",
   "metadata": {},
   "source": [
    "❌ Invalid Operator (*, / not allowed)"
   ]
  },
  {
   "cell_type": "code",
   "execution_count": 36,
   "metadata": {},
   "outputs": [
    {
     "name": "stdout",
     "output_type": "stream",
     "text": [
      "Error: Operator must be '+' or '-'.\n"
     ]
    }
   ],
   "source": [
    "print(\n",
    "    af.arithmetic_arranger(\n",
    "        [\"10 * 5\",\"20 / 5\"]\n",
    "    )\n",
    ")"
   ]
  },
  {
   "cell_type": "markdown",
   "metadata": {},
   "source": [
    "❌ Non-Numeric Input"
   ]
  },
  {
   "cell_type": "code",
   "execution_count": 37,
   "metadata": {},
   "outputs": [
    {
     "name": "stdout",
     "output_type": "stream",
     "text": [
      "Error: Numbers must only contain digits.\n"
     ]
    }
   ],
   "source": [
    "print(\n",
    "    af.arithmetic_arranger(\n",
    "        [\"abe + dfe\",\"20 - 5\"]\n",
    "    )\n",
    ")"
   ]
  },
  {
   "cell_type": "markdown",
   "metadata": {},
   "source": [
    "❌ Operand Too Large (> 4 Digits)"
   ]
  },
  {
   "cell_type": "code",
   "execution_count": 38,
   "metadata": {},
   "outputs": [
    {
     "name": "stdout",
     "output_type": "stream",
     "text": [
      "Error: Numbers cannot be more than four digits.\n"
     ]
    }
   ],
   "source": [
    "print(\n",
    "    af.arithmetic_arranger(\n",
    "        [\"10000 + 10000\"]\n",
    "    )\n",
    ")"
   ]
  }
 ],
 "metadata": {
  "kernelspec": {
   "display_name": "Python 3",
   "language": "python",
   "name": "python3"
  },
  "language_info": {
   "codemirror_mode": {
    "name": "ipython",
    "version": 3
   },
   "file_extension": ".py",
   "mimetype": "text/x-python",
   "name": "python",
   "nbconvert_exporter": "python",
   "pygments_lexer": "ipython3",
   "version": "3.13.1"
  }
 },
 "nbformat": 4,
 "nbformat_minor": 2
}
